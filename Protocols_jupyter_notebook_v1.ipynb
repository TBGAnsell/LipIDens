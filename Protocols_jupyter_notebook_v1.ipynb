{
 "cells": [
  {
   "cell_type": "markdown",
   "metadata": {},
   "source": [
    "# Protocol"
   ]
  },
  {
   "cell_type": "markdown",
   "metadata": {},
   "source": [
    "Workflow for simulation assisted interpretation of protein-lipid densities."
   ]
  },
  {
   "cell_type": "code",
   "execution_count": null,
   "metadata": {
    "collapsed": true
   },
   "outputs": [],
   "source": [
    "import os\n",
    "import protocol\n",
    "import protocol.system_setup\n",
    "import protocol.process_structure as pps\n",
    "import protocol.simulation as ps\n",
    "import protocol.test_PyLipID_cutoffs as lip_test\n",
    "import protocol.run_PyLipID as lip_run\n",
    "import protocol.screen_PyLipID_data as lip_screen"
   ]
  },
  {
   "cell_type": "markdown",
   "metadata": {},
   "source": [
    "# 1: Setup of coarse-grained simulations"
   ]
  },
  {
   "cell_type": "markdown",
   "metadata": {},
   "source": [
    "Section 1: USER DEFINED VARIABLES "
   ]
  },
  {
   "cell_type": "code",
   "execution_count": null,
   "metadata": {
    "collapsed": true
   },
   "outputs": [],
   "source": [
    "### Section 1: USER DEFINED VARIABLES ###\n",
    "protein_AT_full='MscS_prot.pdb' # Atomistic .pdb file of protein\n",
    "                                # Input structure should not have missing atoms\n",
    "                                # Simulation competant membrane protein structures can be found\n",
    "                                # on MemProtMD (http://memprotmd.bioch.ox.ac.uk/)\n",
    "nprot = 1 # Number of homomeric protein chains, for heteromers use nprot=1\n",
    "protein_shift=0 # Shift protein position in membrane to align TM region within the bilayer (value can also be negative).\n",
    "protein_rotate='0 90 0' # Rotate the protein position to align TM region within the bilayer (angle in x y z)\n",
    "boxsize='15,15,15' # CG simulation box size\n",
    "\n",
    "save_dir=\"Test\" # Save directory name\n",
    "\n",
    "forcefield='martini_v2.2' # Currently compatible with martini_v2.0, martini_v2.1, martini_v2.2\n",
    "membrane_composition='Gram neg. inner membrane' # Define membrane composition.\n",
    "                                                # Can either select from predefined membrane compositions or\n",
    "                                                # define using insane.py syntax.\n",
    "                                                # Current predefined membrane compositions available:\n",
    "                                                # ['Gram neg. inner membrane', 'Gram neg. outer membrane',\n",
    "                                                # 'Plasma membrane', 'ER membrane', 'Raft-like microdomain', 'Simple']\n",
    "                                                #\n",
    "                                                # Example of custom bilayer composition (-u=upper leafelt, -l=lower leaflet):\n",
    "                                                #membrane_composition='-u POPC:50 -u DOPC:50 -l POPE:30 -l CHOL:10 -l DOPE:60'\n",
    "\n",
    "#membrane_composition='-u DPG1:30 -l LPPA:30 -l FPMG:10'\n",
    "CG_simulation_time=4 # time in us - recomended to simulate for at least 5us per replicate, ideally 10-15us\n",
    "replicates=2 # number of CG replicates\n",
    "stride=10 # Skip every X no. frame during trajectory processing and running PyLipID\n",
    "n_cores=16 # Number of CPU to use to run gromacs mdrun commands"
   ]
  },
  {
   "cell_type": "markdown",
   "metadata": {},
   "source": [
    "Section 1a CODE: ...basic setup of the system."
   ]
  },
  {
   "cell_type": "code",
   "execution_count": null,
   "metadata": {
    "collapsed": true
   },
   "outputs": [],
   "source": [
    "##################\n",
    "### Code Below ###\n",
    "##################\n",
    "protocol_path=os.path.dirname(protocol.__file__)\n",
    "path=protocol.system_setup.setup(protocol_path, save_dir)"
   ]
  },
  {
   "cell_type": "markdown",
   "metadata": {},
   "source": [
    "...process the structure and orient ready for setting up the system."
   ]
  },
  {
   "cell_type": "code",
   "execution_count": null,
   "metadata": {
    "collapsed": true
   },
   "outputs": [],
   "source": [
    "### Structure processing ###\n",
    "protein_AT_full=pps.process_structure(protocol_path, protein_AT_full, protein_rotate)"
   ]
  },
  {
   "cell_type": "markdown",
   "metadata": {},
   "source": [
    "...build the CG system."
   ]
  },
  {
   "cell_type": "code",
   "execution_count": null,
   "metadata": {
    "collapsed": true
   },
   "outputs": [],
   "source": [
    "### Setting up and performing CG simulations ###\n",
    "python3_path, dssp_path = ps.get_py_paths(protocol_path)\n",
    "ps.system_setup(protocol_path, path)\n",
    "ps.fetch_CG_itp(forcefield, path)\n",
    "bilayer=ps.bilayer_select(membrane_composition)\n",
    "ps.top_header(forcefield, path)\n",
    "ps.run_CG(protocol_path, protein_AT_full, protein_shift, bilayer, boxsize, replicates, python3_path, dssp_path, n_cores, path, CG_simulation_time)\n"
   ]
  },
  {
   "cell_type": "markdown",
   "metadata": {},
   "source": [
    "Pause point - run CG simulations using generated md.tpr files."
   ]
  },
  {
   "cell_type": "markdown",
   "metadata": {},
   "source": [
    "Section 1b CODE: Once CG simulations have completed, process the CG trajectories."
   ]
  },
  {
   "cell_type": "code",
   "execution_count": null,
   "metadata": {
    "collapsed": true
   },
   "outputs": [],
   "source": [
    "## Process CG trajectories ###\n",
    "ps.trjconv_CG(protocol_path, stride, replicates, path)\n"
   ]
  },
  {
   "cell_type": "markdown",
   "metadata": {},
   "source": [
    "# 2: Selecting PyLipID Input parameters - Test cutoffs"
   ]
  },
  {
   "cell_type": "markdown",
   "metadata": {},
   "source": [
    "Section 2: USER DEFINED VARIABLES "
   ]
  },
  {
   "cell_type": "code",
   "execution_count": null,
   "metadata": {
    "collapsed": true
   },
   "outputs": [],
   "source": [
    "### Section 2: USER DEFINED VARIABLES ###\n",
    "lipid_atoms = None # all lipid atom/bead will be considered\n",
    "contact_frames = 30  # will only plot data if the contact was formed over ${contact_frames} frames.\n",
    "distance_threshold = 0.65\n",
    "\n",
    "lower_cutoff = [0.4, 0.425, 0.45, 0.475, 0.5, 0.55] # list of lower cutoffs to test in exhastive search\n",
    "upper_cutoff = [0.6, 0.65, 0.7, 0.75, 0.8, 0.85, 0.9] # list of upper cutoffs to test in axhastive search\n",
    "timeunit = \"us\""
   ]
  },
  {
   "cell_type": "markdown",
   "metadata": {},
   "source": [
    "Section 2 CODE: ...perform cutoff testing (PDF and exhastive tests)"
   ]
  },
  {
   "cell_type": "code",
   "execution_count": null,
   "metadata": {
    "collapsed": true
   },
   "outputs": [],
   "source": [
    "##################\n",
    "### Code Below ###\n",
    "##################\n",
    "### Selecting PyLipID input parameters ###\n",
    "traj=lip_test.load_traj(path)\n",
    "lip_list=lip_test.get_lipids(bilayer) ### Make None default - and also for save_dir (add as bilayer=None in function??/ check pylipid)\n",
    "for lipid in lip_list:\n",
    "    print(lipid)\n",
    "    fig_dir=lip_test.set_lipid(path, lipid)\n",
    "    distance_set = lip_test.compute_minimum_distance(traj, lipid, fig_dir, 1, lipid_atoms=lipid_atoms,\n",
    "                                               contact_frames=contact_frames, distance_threshold=distance_threshold)\n",
    "    lip_test.plot_PDF(distance_set, 1000, \"{}/PyLipID_cutoff_test_{}/dist_distribut_{}.pdf\".format(path, lipid, lipid), lipid)\n",
    "\n",
    "    cutoff_list, trajfile_list, topfile_list = lip_test.exhaustive_search_setup(path, lower_cutoff, upper_cutoff, replicates)\n",
    "    num_of_binding_sites, duration_avgs, num_of_contacting_residues = lip_test.test_cutoffs(\n",
    "                                     cutoff_list, trajfile_list, topfile_list, lipid, lipid_atoms,\n",
    "                                     nprot=nprot, stride=stride, save_dir=\"{}/PyLipID_cutoff_test_{}\".format(path, lipid), timeunit=timeunit)\n",
    "    lip_test.ex_data_process(path, lipid, num_of_binding_sites, duration_avgs, num_of_contacting_residues, cutoff_list)\n",
    "    lip_test.graph(cutoff_list, [num_of_binding_sites[cutoffs] for cutoffs in cutoff_list],\n",
    "          \"num. of binding sites\", lipid, f\"{path}/PyLipID_cutoff_test_{lipid}/test_cutoff_num_of_bs_{lipid}.pdf\")\n",
    "    lip_test.graph(cutoff_list, [duration_avgs[cutoffs] for cutoffs in cutoff_list],\n",
    "          f\"Durations ({timeunit})\", lipid, f\"{path}/PyLipID_cutoff_test_{lipid}/test_cutoff_durations_{lipid}.pdf\")\n",
    "    lip_test.graph(cutoff_list, [num_of_contacting_residues[cutoffs] for cutoffs in cutoff_list],\n",
    "          \"num. of contacting residues\", lipid,\n",
    "          f\"{path}/PyLipID_cutoff_test_{lipid}/test_cutoff_num_of_contacting_residues_{lipid}.pdf\")"
   ]
  },
  {
   "cell_type": "markdown",
   "metadata": {},
   "source": [
    "# 3. Run PyLipID analysis"
   ]
  },
  {
   "cell_type": "markdown",
   "metadata": {},
   "source": [
    "Section 3: USER DEFINED VARIABLES "
   ]
  },
  {
   "cell_type": "code",
   "execution_count": null,
   "metadata": {
    "collapsed": true
   },
   "outputs": [],
   "source": [
    "### Section 3: USER DEFINED VARIABLES ###\n",
    "cutoffs = [0.5, 0.7]  # dual-cutoff scheme for coarse-grained simulations. Single-cutoff scheme can be\n",
    "                      # achieved by using the same value for two cutoffs.\n",
    "dt_traj = None  # the timestep of trajectories. Need to use this param when trajectories are in a format\n",
    "                # with no timestep information. Not necessary for trajectory formats of e.g. xtc, trr.\n",
    "\n",
    "binding_site_size = 4  # binding site should contain at least four residues.\n",
    "n_top_poses = 3     # write out num. of representative bound poses for each binding site.\n",
    "n_clusters = \"auto\"  # cluster the bound poses for a binding site into num. of clusters. PyLipID\n",
    "                     # will write out a pose conformation for each of the cluster. By default, i.e.\n",
    "                     # \"auto\", PyLipID will use a density based clusterer to find possible clusters.\n",
    "save_pose_format = \"gro\"  # format that poses are written in\n",
    "save_pose_traj = True  # save all the bound poses in a trajectory for each binding site. The generated\n",
    "                       # trajectories can take some disk space (up to a couple GB depending on your system).\n",
    "save_pose_traj_format = \"xtc\"  # The format for the saved pose trajectories. Can take any format that is supported\n",
    "                               # by mdtraj.\n",
    "\n",
    "timeunit = \"us\"  # micro-sec. \"ns\" is nanosecond. Time unit used for reporting the results.\n",
    "resi_offset = 0  # shift the residue index, useful for MARTINI models.\n",
    "\n",
    "radii = None  # Radii of protein atoms/beads. In the format of python dictionary {atom_name: radius}\n",
    "              # Used for calculation of binding site surface area. The van der waals radii of common atoms were\n",
    "              # defined by mdtraj (https://github.com/mdtraj/mdtraj/blob/master/mdtraj/geometry/sasa.py#L56).\n",
    "              # The radii of MARTINI 2.2 beads were included in PyLipID.\n",
    "\n",
    "pdb_file_to_map = None   # if a pdb coordinate of the receptor is provided, a python script\n",
    "                         # \"show_binding_site_info.py\" will be generated which maps the binding\n",
    "                         # site information to the structure in PyMol. As PyMol cannot recognize\n",
    "                         # coarse-grained structures, an atomistic structure of the receptor is needed.\n",
    "\n",
    "fig_format = \"pdf\"  # format for all pylipid produced figures. Allow for formats that are supported by\n",
    "                    # matplotlib.pyplot.savefig().\n",
    "\n",
    "num_cpus = None  # the number of cpu to use when functions are using multiprocessing. By default,\n",
    "                 # i.e. None, the functions will use up all the cpus available. This can use up all the memory in\n",
    "                 # some cases."
   ]
  },
  {
   "cell_type": "markdown",
   "metadata": {},
   "source": [
    "Section 3 CODE: ...run PyLipID"
   ]
  },
  {
   "cell_type": "code",
   "execution_count": null,
   "metadata": {
    "collapsed": true
   },
   "outputs": [],
   "source": [
    "##################\n",
    "### Code Below ###\n",
    "##################\n",
    "### Running PyLipID analysis ###\n",
    "trajfile_list, topfile_list=lip_run.get_trajectories(path, replicates)\n",
    "for lipid in lip_list:\n",
    "    lip_run.run_pylipid(trajfile_list, topfile_list, dt_traj, stride, lipid, lipid_atoms, cutoffs, nprot, binding_site_size,\n",
    "        n_top_poses, n_clusters, save_dir, save_pose_format, save_pose_traj, save_pose_traj_format, timeunit, resi_offset,\n",
    "         radii, pdb_file_to_map, fig_format, num_cpus)"
   ]
  },
  {
   "cell_type": "markdown",
   "metadata": {},
   "source": [
    "# 4. Screen PyLipID data"
   ]
  },
  {
   "cell_type": "markdown",
   "metadata": {},
   "source": [
    "Section 4 CODE: ...screen PyLipID data"
   ]
  },
  {
   "cell_type": "code",
   "execution_count": null,
   "metadata": {
    "collapsed": true
   },
   "outputs": [],
   "source": [
    "### Screen PyLipID data ###\n",
    "for lipid in lip_list:\n",
    "    data = lip_screen.get_data(path, lipid)\n",
    "    if data is not None:\n",
    "        lip_screen.plot_screen_data(data, path, lipid)"
   ]
  },
  {
   "cell_type": "markdown",
   "metadata": {},
   "source": [
    "# 5. Rank sites"
   ]
  },
  {
   "cell_type": "markdown",
   "metadata": {},
   "source": [
    "TBC - rank residence time of different lipids binding to the same site. "
   ]
  },
  {
   "cell_type": "code",
   "execution_count": null,
   "metadata": {
    "collapsed": true
   },
   "outputs": [],
   "source": [
    "### Rank sites ###### Rank sites ###"
   ]
  },
  {
   "cell_type": "markdown",
   "metadata": {},
   "source": [
    "# 6. Pose refinement - Setup of atomsitic simulations"
   ]
  },
  {
   "cell_type": "markdown",
   "metadata": {},
   "source": [
    "Section 6: USER DEFINED VARIABLES "
   ]
  },
  {
   "cell_type": "code",
   "execution_count": null,
   "metadata": {
    "collapsed": true
   },
   "outputs": [],
   "source": [
    "## Section 6 - User defined variables ###\n",
    "input_CG_frame=\"md_fit_firstframe.gro\"\n",
    "model_type=\"de_novo\" #option to specify whether to use 'aligned' or 'de_novo' structure from CG2AT for input of the AT simulations\n",
    "replicates_AT=1\n",
    "AT_simulation_time=100 #time in ns"
   ]
  },
  {
   "cell_type": "markdown",
   "metadata": {},
   "source": [
    "Section 6 CODE: ...setup atomistic simulations using output from CG2AT."
   ]
  },
  {
   "cell_type": "code",
   "execution_count": null,
   "metadata": {
    "collapsed": true
   },
   "outputs": [],
   "source": [
    "### Setting up and running atomistic simulations ###\n",
    "ps.CG2AT(protocol_path, protein_AT_full, input_CG_frame, save_dir)\n",
    "AT_path=ps.system_setup_AT(protocol_path, path, model_type)\n",
    "ps.run_AT(AT_path, replicates_AT, protocol_path, AT_simulation_time)"
   ]
  },
  {
   "cell_type": "markdown",
   "metadata": {},
   "source": [
    "Pause point - run atomistic simulations using generated md.tpr files."
   ]
  }
 ],
 "metadata": {
  "kernelspec": {
   "display_name": "PyLipID_py",
   "language": "python",
   "name": "pylipid_py"
  },
  "language_info": {
   "codemirror_mode": {
    "name": "ipython",
    "version": 3
   },
   "file_extension": ".py",
   "mimetype": "text/x-python",
   "name": "python",
   "nbconvert_exporter": "python",
   "pygments_lexer": "ipython3",
   "version": "3.9.1"
  }
 },
 "nbformat": 4,
 "nbformat_minor": 2
}
